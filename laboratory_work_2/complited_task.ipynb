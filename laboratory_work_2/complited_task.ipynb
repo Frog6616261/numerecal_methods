{
 "cells": [
  {
   "cell_type": "code",
   "execution_count": 1,
   "metadata": {},
   "outputs": [],
   "source": [
    "#import libraries for task\n",
    "import numpy as np\n",
    "import matplotlib.pyplot as plt\n",
    "\n",
    "import lab_funcs as lf\n",
    "import lab_funcs_disp as lfd\n",
    "import my_funcs as mf"
   ]
  },
  {
   "cell_type": "markdown",
   "metadata": {},
   "source": [
    "# Вычисление рядов\n",
    "\n",
    "## Khan-sum\n",
    "\n",
    "### Задания\n",
    "\n",
    "1. Объясните различие в погрешностях при различных порядках суммирования.\n",
    "3. Почему алгорит Кэхэна имеет значительно лучшую точность, чем последовательное суммирование?\n",
    "3. Получим ли мы те же значения погрешностей, если будем суммировать последовательность со слагаемыми разных знаков? Проверьте на следующей последовательности:\n",
    "$$x_k=\\sin k.$$\n",
    "4. Что произойдет с погрешностью, если элементы выборки с разными знаками упорядочить по возрастанию? По возрастанию абсолютной величины? Проверьте экспериментально.\n"
   ]
  },
  {
   "cell_type": "markdown",
   "metadata": {},
   "source": [
    "### Решение\n",
    "\n",
    "1. Если складывать суммы не учитывая порядок, то мы получим суммы где складываются большие числа с маленькими и погрешность увеличивается за счет отбрасывания нижних порядков.\n",
    "Если складывать поочередно, то погрешность при каждом суммирование будет меньше, т.к. мы будем складывать относительно равные числа (равного порядка) и погрешность не будет такой большой как в первом случае, т.к. нижние порядки учитваются.\n",
    "Продемострируем это на практике."
   ]
  },
  {
   "cell_type": "code",
   "execution_count": 2,
   "metadata": {},
   "outputs": [
    {
     "name": "stdout",
     "output_type": "stream",
     "text": [
      "Relative permut data error:  4.6550208134767723e-11\n",
      "Relative sort data error:  1.9908519277181958e-11\n"
     ]
    }
   ],
   "source": [
    "#generate data\n",
    "K = 7\n",
    "perm_data = lf.samples(K)\n",
    "sort_data = lf.sort_samples(K)\n",
    "sum_perm = lf.direct_sum(perm_data)\n",
    "sum_sort = lf.direct_sum(sort_data)\n",
    "cur_sum = lf.exact_sum(K)\n",
    "\n",
    "print(\"Relative permut data error: \", lf.relative_error(cur_sum, sum_perm))\n",
    "print(\"Relative sort data error: \", lf.relative_error(cur_sum, sum_sort))\n"
   ]
  },
  {
   "cell_type": "markdown",
   "metadata": {},
   "source": [
    "2. Алгоритм Кэхэна не отбрасывает остаток, он его сохраняет на каждом шаге суммирования. И результат следующего суммирования будет брать во внимание остаток от предыдущего суммирования и создавать остаток для нового суммирования.\n",
    "При суммирование по возрастанию мы уменьшили погрешность, но не учитывали остаток при суммировании.\n",
    "\n",
    "Получим сумму для алгоритма Кэхэна"
   ]
  },
  {
   "cell_type": "code",
   "execution_count": 3,
   "metadata": {},
   "outputs": [
    {
     "name": "stdout",
     "output_type": "stream",
     "text": [
      "Relative Kahan sum error:  0.0\n"
     ]
    }
   ],
   "source": [
    "kahan_sum = lf.Kahan_sum(perm_data)\n",
    "print(\"Relative Kahan sum error: \", lf.relative_error(cur_sum, kahan_sum))"
   ]
  },
  {
   "cell_type": "markdown",
   "metadata": {},
   "source": [
    "3. При суммирование знакочередующегося ряда мы получаем погрешность близкую к машинной. Для алгоритма Кэхэна ничего принципиально не изменится если будем суммировать слагаемые с разными знаками."
   ]
  },
  {
   "cell_type": "code",
   "execution_count": 8,
   "metadata": {},
   "outputs": [
    {
     "name": "stdout",
     "output_type": "stream",
     "text": [
      "Relative sum error to Kahan permut sin data:  9.54772862162757e-16\n"
     ]
    }
   ],
   "source": [
    "N = 1000\n",
    "correct_sin_sum = mf.get_correct_sin_sum(N)\n",
    "sin_perm_data = mf.get_sin_perm_samples(N)\n",
    "sum_sin_perm = mf.Kahan_sum(sin_perm_data)\n",
    "\n",
    "print(\"Relative sum error to Kahan permut sin data: \", lf.relative_error(correct_sin_sum, sum_sin_perm))"
   ]
  },
  {
   "cell_type": "markdown",
   "metadata": {},
   "source": [
    "4. Если упорядочивать элементы выборки, то относительная погрешность будет уменьшатся. Лучшим вариантом упорядочивания является $\\rightarrow$ упорядочивание не по абсолютной величине."
   ]
  },
  {
   "cell_type": "code",
   "execution_count": 10,
   "metadata": {},
   "outputs": [
    {
     "name": "stdout",
     "output_type": "stream",
     "text": [
      "Relative sum error to Kahan permut sin data:  9.54772862162757e-16\n",
      "Relative sum error to Kahan sort sin data:  4.0918836949832464e-16\n",
      "Relative sum error to Kahan abs sort sin data:  5.455844926644328e-16\n"
     ]
    }
   ],
   "source": [
    "\n",
    "correct_sin_sum = mf.get_correct_sin_sum(N)\n",
    "sin_sort_data = mf.get_sin_sort_samples(N)\n",
    "sin_abs_sort_data = mf.get_sin_abs_sort_samples(N)\n",
    "\n",
    "sum_sin_sort = mf.Kahan_sum(sin_sort_data)\n",
    "sum_abs_sin_sort = mf.Kahan_sum(sin_abs_sort_data)\n",
    "\n",
    "print(\"Relative sum error to Kahan permut sin data: \",\n",
    "       lf.relative_error(correct_sin_sum, sum_sin_perm))\n",
    "print(\"Relative sum error to Kahan sort sin data: \",\n",
    "       lf.relative_error(correct_sin_sum, sum_sin_sort))\n",
    "print(\"Relative sum error to Kahan abs sort sin data: \",\n",
    "       lf.relative_error(correct_sin_sum, sum_abs_sin_sort))"
   ]
  },
  {
   "cell_type": "markdown",
   "metadata": {},
   "source": [
    "## Вычисление дисперсии\n",
    "\n",
    "### Задания\n",
    "1. Обьясните, почему формулы оценки дисперсии имеют разные погрешности, хотя чтобы их применить, нужно выполнить одни и те же действия, но в разном порядке? Оцените погрешности обоих формул.\n",
    "2. Предложите однопроходную формулу для оценки мат. ожидания и дисперсии, основанную на первой формуле для дисперсии. Воспользуйтесь компенсационным суммированием, чтобы увеличить точность. Попробуйте увеличить точность вычисления по сравнению со второй формулой хотя бы на два порядка."
   ]
  },
  {
   "cell_type": "markdown",
   "metadata": {},
   "source": [
    "### Решение\n",
    "1. "
   ]
  }
 ],
 "metadata": {
  "kernelspec": {
   "display_name": "Python 3",
   "language": "python",
   "name": "python3"
  },
  "language_info": {
   "codemirror_mode": {
    "name": "ipython",
    "version": 3
   },
   "file_extension": ".py",
   "mimetype": "text/x-python",
   "name": "python",
   "nbconvert_exporter": "python",
   "pygments_lexer": "ipython3",
   "version": "3.11.0"
  }
 },
 "nbformat": 4,
 "nbformat_minor": 2
}
