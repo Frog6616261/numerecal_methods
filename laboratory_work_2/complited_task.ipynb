{
 "cells": [
  {
   "cell_type": "code",
   "execution_count": 42,
   "metadata": {},
   "outputs": [],
   "source": [
    "#import libraries for task\n",
    "import numpy as np\n",
    "import matplotlib.pyplot as plt\n",
    "\n",
    "import lab_funcs as lf\n",
    "import lab_funcs_disp as lfd\n",
    "import lab_funcs_exp as lfe\n",
    "import my_funcs as mf"
   ]
  },
  {
   "cell_type": "markdown",
   "metadata": {},
   "source": [
    "# Вычисление рядов\n",
    "\n",
    "## Khan-sum\n",
    "\n",
    "### Задания\n",
    "\n",
    "1. Объясните различие в погрешностях при различных порядках суммирования.\n",
    "3. Почему алгорит Кэхэна имеет значительно лучшую точность, чем последовательное суммирование?\n",
    "3. Получим ли мы те же значения погрешностей, если будем суммировать последовательность со слагаемыми разных знаков? Проверьте на следующей последовательности:\n",
    "$$x_k=\\sin k.$$\n",
    "4. Что произойдет с погрешностью, если элементы выборки с разными знаками упорядочить по возрастанию? По возрастанию абсолютной величины? Проверьте экспериментально.\n"
   ]
  },
  {
   "cell_type": "markdown",
   "metadata": {},
   "source": [
    "### Решение\n",
    "\n",
    "1. Если складывать суммы не учитывая порядок, то мы получим суммы где складываются большие числа с маленькими и погрешность увеличивается за счет отбрасывания нижних порядков.\n",
    "Если складывать поочередно, то погрешность при каждом суммирование будет меньше, т.к. мы будем складывать относительно равные числа (равного порядка) и погрешность не будет такой большой как в первом случае, т.к. нижние порядки учитваются.\n",
    "Продемострируем это на практике."
   ]
  },
  {
   "cell_type": "code",
   "execution_count": 43,
   "metadata": {},
   "outputs": [
    {
     "name": "stdout",
     "output_type": "stream",
     "text": [
      "Relative permut data error:  4.409195231341988e-11\n",
      "Relative sort data error:  1.9908519277181958e-11\n"
     ]
    }
   ],
   "source": [
    "#generate data\n",
    "K = 7\n",
    "perm_data = lf.samples(K)\n",
    "sort_data = lf.sort_samples(K)\n",
    "sum_perm = lf.direct_sum(perm_data)\n",
    "sum_sort = lf.direct_sum(sort_data)\n",
    "cur_sum = lf.exact_sum(K)\n",
    "\n",
    "print(\"Relative permut data error: \", lf.relative_error(cur_sum, sum_perm))\n",
    "print(\"Relative sort data error: \", lf.relative_error(cur_sum, sum_sort))\n"
   ]
  },
  {
   "cell_type": "markdown",
   "metadata": {},
   "source": [
    "2. Алгоритм Кэхэна не отбрасывает остаток, он его сохраняет на каждом шаге суммирования. И результат следующего суммирования будет брать во внимание остаток от предыдущего суммирования и создавать остаток для нового суммирования.\n",
    "При суммирование по возрастанию мы уменьшили погрешность, но не учитывали остаток при суммировании.\n",
    "\n",
    "Получим сумму для алгоритма Кэхэна"
   ]
  },
  {
   "cell_type": "code",
   "execution_count": 44,
   "metadata": {},
   "outputs": [
    {
     "name": "stdout",
     "output_type": "stream",
     "text": [
      "Relative Kahan sum error:  0.0\n"
     ]
    }
   ],
   "source": [
    "kahan_sum = lf.Kahan_sum(perm_data)\n",
    "print(\"Relative Kahan sum error: \", lf.relative_error(cur_sum, kahan_sum))"
   ]
  },
  {
   "cell_type": "markdown",
   "metadata": {},
   "source": [
    "3. При суммирование знакочередующегося ряда мы получаем погрешность близкую к машинной. Для алгоритма Кэхэна ничего принципиально не изменится если будем суммировать слагаемые с разными знаками."
   ]
  },
  {
   "cell_type": "code",
   "execution_count": 45,
   "metadata": {},
   "outputs": [
    {
     "name": "stdout",
     "output_type": "stream",
     "text": [
      "Relative sum error to Kahan permut sin data:  0.0\n"
     ]
    }
   ],
   "source": [
    "N = 1000\n",
    "correct_sin_sum = mf.get_correct_sin_sum(N)\n",
    "sin_perm_data = mf.get_sin_perm_samples(N)\n",
    "sum_sin_perm = mf.Kahan_sum(sin_perm_data)\n",
    "\n",
    "print(\"Relative sum error to Kahan permut sin data: \", lf.relative_error(correct_sin_sum, sum_sin_perm))"
   ]
  },
  {
   "cell_type": "markdown",
   "metadata": {},
   "source": [
    "4. Если упорядочивать элементы выборки, то относительная погрешность будет уменьшатся. Лучшим вариантом упорядочивания является $\\rightarrow$ упорядочивание не по абсолютной величине."
   ]
  },
  {
   "cell_type": "code",
   "execution_count": 46,
   "metadata": {},
   "outputs": [
    {
     "name": "stdout",
     "output_type": "stream",
     "text": [
      "Relative sum error to Kahan permut sin data:  0.0\n",
      "Relative sum error to Kahan sort sin data:  4.0918836949832464e-16\n",
      "Relative sum error to Kahan abs sort sin data:  5.455844926644328e-16\n"
     ]
    }
   ],
   "source": [
    "\n",
    "correct_sin_sum = mf.get_correct_sin_sum(N)\n",
    "sin_sort_data = mf.get_sin_sort_samples(N)\n",
    "sin_abs_sort_data = mf.get_sin_abs_sort_samples(N)\n",
    "\n",
    "sum_sin_sort = mf.Kahan_sum(sin_sort_data)\n",
    "sum_abs_sin_sort = mf.Kahan_sum(sin_abs_sort_data)\n",
    "\n",
    "print(\"Relative sum error to Kahan permut sin data: \",\n",
    "       lf.relative_error(correct_sin_sum, sum_sin_perm))\n",
    "print(\"Relative sum error to Kahan sort sin data: \",\n",
    "       lf.relative_error(correct_sin_sum, sum_sin_sort))\n",
    "print(\"Relative sum error to Kahan abs sort sin data: \",\n",
    "       lf.relative_error(correct_sin_sum, sum_abs_sin_sort))"
   ]
  },
  {
   "cell_type": "markdown",
   "metadata": {},
   "source": [
    "## Вычисление дисперсии\n",
    "\n",
    "### Задания\n",
    "1. Обьясните, почему формулы оценки дисперсии имеют разные погрешности, хотя чтобы их применить, нужно выполнить одни и те же действия, но в разном порядке? Оцените погрешности обоих формул.\n",
    "2. Предложите однопроходную формулу для оценки мат. ожидания и дисперсии, основанную на первой формуле для дисперсии. Воспользуйтесь компенсационным суммированием, чтобы увеличить точность. Попробуйте увеличить точность вычисления по сравнению со второй формулой хотя бы на два порядка."
   ]
  },
  {
   "cell_type": "markdown",
   "metadata": {},
   "source": [
    "### Решение\n",
    "## 1. \n",
    "Для объяснения сначала оценим погрешности, после промоделируем это на примере. Из этого сложиться объяснение."
   ]
  },
  {
   "cell_type": "markdown",
   "metadata": {},
   "source": [
    "\n",
    "\n",
    "1) $$D[X]\\approx\\frac1N\\sum_{n=1}^N\\left(x_n-\\frac1N\\sum_{n=1}^Nx_n\\right)^2.$$\n",
    "\n",
    "| $f$ | $\\delta x$ | $\\Delta x$ |\n",
    "|:-:|:-:|:-:|\n",
    "| $x_n$ | $\\epsilon$ | $\\epsilon \\cdot x$ |\n",
    "| $\\dfrac{\\sum^{N}_{n} x_n}{N}$ | $\\dfrac{N}{N} \\cdot \\epsilon = \\epsilon$| $E(x)\\cdot \\epsilon$|\n",
    "|$\\bigg(x_n - \\dfrac{1}{N}\\sum_{n=1}^{N}x_n\\bigg)^2$|$2\\dfrac{2 \\cdot E(x)}{D(x)^{0.5} / 2 } \\cdot \\epsilon$|$8 \\epsilon \\cdot E(x)\\cdot D(x)^{0.5}$|\n",
    "|$\\dfrac{1}{N}\\sum_{n=1}^{N}\\bigg(x_n - \\dfrac{1}{N}\\sum_{n=1}^{N}x_n\\bigg)^2$|$8\\epsilon \\dfrac{E(x)}{D(x)^{0.5}}$|$8 \\epsilon \\cdot E(x)\\cdot D(x)^{0.5}$ |\n",
    "\n",
    "\n",
    "\n",
    "2) $$D[X]\\approx \\frac1N\\sum_{n=1}^N x_n^2-\\left(\\frac1N\\sum_{n=1}^Nx_n\\right)^2.$$\n",
    "| $f$ |$\\delta x$ | $\\Delta x$ |\n",
    "|:-:|:-:|:-:|\n",
    "|$x_n$|$\\epsilon$|$E(x)\\cdot \\epsilon$|\n",
    "|$\\bigg(\\dfrac{1}{N}\\sum_{n=1}^{N}x_n\\bigg)^2$ |$2 \\epsilon$ | $2 \\epsilon \\cdot E(x)^2$ |\n",
    "|$\\dfrac{1}{N}\\sum_{n=1}^{N}x_n^2$ |$\\dfrac{N}{N}\\cdot 2\\epsilon$ | $2\\epsilon\\cdot E(x)^2$ |\n",
    "|$\\dfrac{1}{N}\\sum_{n=1}^{N}x_n^2 - \\bigg(\\dfrac{1}{N}\\sum_{n=1}^{N}x_n\\bigg)^2$| $2\\epsilon + 2\\epsilon$|$4 \\epsilon \\cdot E(x)^2$| "
   ]
  },
  {
   "cell_type": "markdown",
   "metadata": {},
   "source": [
    "Как мы видим, погрешность не зависит от N, покажем это на примере. Построим график значения дисперсии от кол-ва элементов $\\rightarrow$ N"
   ]
  },
  {
   "cell_type": "code",
   "execution_count": 47,
   "metadata": {},
   "outputs": [
    {
     "data": {
      "image/png": "[encoded data removed]",
      "text/plain": [
       "<Figure size 640x480 with 1 Axes>"
      ]
     },
     "metadata": {},
     "output_type": "display_data"
    }
   ],
   "source": [
    "N_max = 1000\n",
    "N_array = mf.get_N_array(N_max)\n",
    "\n",
    "x_arrayes = lfd.array_samples(N_max)\n",
    "cur_disp = lfd.exact_variance()\n",
    "\n",
    "disp_one_sqrt_f = np.full(N_max, -1.0)\n",
    "disp_one_sqrt_s = np.full(N_max, -1.0)\n",
    "\n",
    "for num_of_array in range(0, N_max):\n",
    "    disp_one_sqrt_f[num_of_array] = lfd.direct_first_var(x_arrayes[num_of_array])\n",
    "    disp_one_sqrt_s[num_of_array] = lfd.direct_second_var(x_arrayes[num_of_array])\n",
    "\n",
    "plt.plot(N_array, disp_one_sqrt_f,\".k\")\n",
    "plt.plot(N_array, disp_one_sqrt_f, \".b\")\n",
    "plt.plot(N_array, [cur_disp]*len(N_array),\"--r\") \n",
    "plt.xlabel(\"$Количество\\; элементов\\; в\\; выборке\\; N$\")\n",
    "plt.ylabel(\"$Значение\\; дисперсии$\")\n",
    "plt.legend([\"Первая формула\", \"Вторая формула\", \"Текущее значение дисперсии\"])\n",
    "plt.show() "
   ]
  },
  {
   "cell_type": "markdown",
   "metadata": {},
   "source": [
    "## 2. \n",
    "Получим однопроходную формулу:\n",
    "\n",
    "$$N\\cdot D_N - (N-1)\\cdot D_{N-1} = \\sum^N_k(x_k-\\frac{1}{N} \\sum^N_n x_n)^2 - \\sum^{N-1}_k (x_k - \\frac{1}{N-1} \\sum^{N-1}_n x_n)^2 =$$\n",
    "$$= (x_N-E_N)^2 + \\sum^{N-1}_n ((x_n-E_N)^2 - (x_n-E_{N-1})^2) = (x_N-E_N)^2 + \\sum^{N-1}_n (2x_n - E_N - E_{N-1})(E_{N-1} - E_N) $$\n",
    "\n",
    "Тогда получим:\n",
    "\n",
    "$$ D_N = \\bigg( 1- \\frac{1}{N} \\bigg) D_{N-1} + \\frac{1}{N} (x_N-E_N) (x_N-E_{N-1}) $$\n",
    "\n",
    "Посчитаем и сравним для каждой формулы по дисперсии"
   ]
  },
  {
   "cell_type": "code",
   "execution_count": 48,
   "metadata": {},
   "outputs": [
    {
     "name": "stdout",
     "output_type": "stream",
     "text": [
      "Сравнение однопроходных формул для первой и второй оценки дисперсии: разность получаемых значений 4.5102810375396984e-17\n",
      "Размер выборки: 200000\n",
      "Среднее значение: 100000.0\n",
      "Оценка дисперсии: 1e-12\n",
      "Ошибка среднего для встроенной функции: 1.4551915228366853e-16\n",
      "Ошибка дисперсии для встроенной функции: 1.3874583830542432e-05\n",
      "Ошибка среднего для последовательного суммирования: 2.1100277081131934e-14\n",
      "Ошибка второй оценки дисперсии для последовательного суммирования: 375747681.6640625\n",
      "Ошибка второй оценки дисперсии для однопроходного суммирования: 30517577.125\n",
      "Ошибка первой оценки дисперсии для последовательного суммирования: 9.422578659773829e-06\n",
      "Ошибка первой оценки дисперсии для однопроходного суммирования: 2.552985235920161e-06\n",
      "Теоретическая оценка ошибки дисперсии (по первой формуле): 1.7763568394002505e-13\n",
      "Теоретическая оценка ошибки дисперсии (по второй формуле): 8.881784197001252e-06\n"
     ]
    }
   ],
   "source": [
    "\n",
    "x = lfd.samples(100000)\n",
    "eps0 = np.finfo(np.double).eps\n",
    "n = float(len(x))\n",
    "mean = lfd.get_mean()\n",
    "delta = lfd.get_delta()\n",
    "variance = lfd.exact_variance()\n",
    "\n",
    "theor_1 = 8*eps0*mean*delta**(0.5)\n",
    "theor_2 = 4*eps0*mean**2\n",
    "\n",
    "x_oneline_test=[1/2,4/7,3/5,11/19,5/19]\n",
    "d1=lfd.oneline_first_var(x_oneline_test)\n",
    "d2=lfd.online_second_var(x_oneline_test)\n",
    "print('Сравнение однопроходных формул для первой и второй оценки дисперсии: разность получаемых значений',np.abs(d1-d2))\n",
    "\n",
    "print(\"Размер выборки:\", len(x))\n",
    "print(\"Среднее значение:\", lfd.exact_mean())\n",
    "print(\"Оценка дисперсии:\", lfd.exact_variance())\n",
    "print(\"Ошибка среднего для встроенной функции:\", lfd.relative_error(mean,np.mean(x)))\n",
    "print(\"Ошибка дисперсии для встроенной функции:\", lfd.relative_error(variance,np.var(x)))\n",
    "\n",
    "\n",
    "print(\"Ошибка среднего для последовательного суммирования:\", lfd.relative_error(mean,lfd.direct_mean(x)))\n",
    "\n",
    "print(\"Ошибка второй оценки дисперсии для последовательного суммирования:\",lfd.relative_error(variance,lfd.direct_second_var(x)))\n",
    "print(\"Ошибка второй оценки дисперсии для однопроходного суммирования:\",lfd.relative_error(variance,lfd.online_second_var(x)))\n",
    "\n",
    "\n",
    "print(\"Ошибка первой оценки дисперсии для последовательного суммирования:\",lfd.relative_error(variance,lfd.direct_first_var(x)))\n",
    "print(\"Ошибка первой оценки дисперсии для однопроходного суммирования:\",lfd.relative_error(variance,lfd.oneline_first_var(x)))\n",
    "\n",
    "\n",
    "print(\"Теоретическая оценка ошибки дисперсии (по первой формуле):\",theor_1)\n",
    "print(\"Теоретическая оценка ошибки дисперсии (по второй формуле):\",theor_2)\n",
    "#сравнить ошибки"
   ]
  },
  {
   "cell_type": "markdown",
   "metadata": {},
   "source": [
    "## Вычисление экспоненты\n",
    "\n",
    "### Задания\n",
    "\n",
    "1. Относительная ошибка приближения частичной суммой ряда Тейлора показательной функцией много больше для отрицательных аргументов. Объясните причину этого. Воспользуйтесь свойствами показательной функции, чтобы выравнить точность вычислений при положительных и отрицательных аргументах.\n",
    "2. Почему абсолютная погрешность мала при аргументах близких к нулю? Как именно погрешность зависит от аргумента?\n",
    "3. Абсолютная погрешность приближения функции частичной суммой ряда равна остатку этого ряда. Оцените остаток ряда Тейлора для экспоненты и найдите число слагаемых, необходимое для вычисления экспоненты с наперед заданной точностью. Проведите эксперимент и убедитесь, что предсказанная вами точность отличается от фактической не более чем на порядок.\n",
    "4. Ошибка вычисления через частичную сумму складывается из ошибки отбрасывание остатка ряда и ошибки вычисления умножений и сложений. При увеличинии числа слагаемых первая ошибка уменьшается, но вторая растет. Для произвольного x оцените число слагаемых, при которых точность вычисления показательной функции максимальна.\n",
    "5. Схема Горнера дает несколько меньшую погрешность, чем суммирование одночленов. Почему?\n",
    "6. Можете предложить лучший способ вычисления показательной функции?"
   ]
  },
  {
   "cell_type": "markdown",
   "metadata": {},
   "source": [
    "## Решение\n",
    "## 1.\n"
   ]
  },
  {
   "cell_type": "markdown",
   "metadata": {},
   "source": [
    "Ошибку можно объяснить, рассмотрев погрешность для рассматриваемого ряда:\n",
    "\n",
    "$\\bigg|\\Delta\\dfrac{x_n}{n!}\\bigg| = \\Delta\\dfrac{|x^n|}{n!} = n\\cdot\\dfrac{|x^n|}{n!}\\cdot |\\delta x| = |\\delta x|\\dfrac{|x^n|}{(n-1)!}$\n",
    "\n",
    "\n",
    "$\\Delta S_N \\leq \\sum_{n=0}^N |\\delta x|\\dfrac{|x^n|}{(n-1)!} \\leq |\\delta x\\cdot x| \\sum_{n=0}^{N-1} \\dfrac{|x^n|}{n!}\\leq e^{|x|}\\cdot |\\Delta x|$\n",
    "\n",
    "\n",
    "$|\\delta S_N| = \\dfrac{|\\Delta x|e^{|x|}}{e^x} = |\\Delta x| \\cdot \\exp[|x|-x]$\n",
    "\n",
    "\n",
    "Из оценки погрешности видно, что при положительных значениях аргумента - экспонента не вносит вклад в погрешность (т.к. ее агрумент равен нулю), а при отрицательных значениях агрумент экспоненты равен $-2x$, что вносит сильный вклад в эволюцию ошибки - экспоненциально растущая ошибка при больишх значениях аргумента."
   ]
  },
  {
   "cell_type": "markdown",
   "metadata": {},
   "source": [
    "## 2.\n",
    "Рассмотрим при аргументе близком к нулю $Arg\\to0\\;\\;\\;\\implies\\;\\;\\;\\exp(Arg)\\to 1\\;\\;\\;\\implies\\;\\;\\;\\Delta x = \\frac{\\epsilon}{2}\\cdot x \\to 0 \\implies\\;\\;\\; |\\delta S_N| \\to 0 $\n",
    "\n",
    "Абсолютная теоретическая зависимость погрешности от аргумента: $\\Delta y = |x| \\exp(x) \\epsilon$"
   ]
  },
  {
   "cell_type": "markdown",
   "metadata": {},
   "source": [
    "## 3.\n",
    "Рассмотрим чему равна погресность конца ряда:\n",
    "\n",
    "$\\bigg|\\sum^{+\\infty}_{n=N}\\dfrac{x^n}{n!}\\bigg|\\leq \\dfrac{|x|^N}{N!}\\sum^{+\\infty}_{n=0}\\dfrac{|x^n|}{N^n} = \\dfrac{|x|^{N+1}}{N!(N-|x|)} $\n",
    "\n",
    "После вычислим погрешность через число обусловленности для встроеннной функции, с данной погрешностью мы будем сравнивать. И вычислим остаток ряда и погрешность, которая накапливается при суммировании N элементов ряда, это будет эксперементальная погрешность."
   ]
  },
  {
   "cell_type": "code",
   "execution_count": 49,
   "metadata": {},
   "outputs": [
    {
     "name": "stderr",
     "output_type": "stream",
     "text": [
      "c:\\Users\\tor\\Desktop\\numerecal methods\\laboratory_work_2\\my_funcs.py:84: RuntimeWarning: divide by zero encountered in scalar divide\n",
      "  acc[0] = x / (1-np.abs(x))\n",
      "c:\\Users\\tor\\Desktop\\numerecal methods\\laboratory_work_2\\my_funcs.py:87: RuntimeWarning: divide by zero encountered in scalar divide\n",
      "  acc[k] = err / np.abs(1 - np.abs(x) / k) / nk\n"
     ]
    },
    {
     "data": {
      "image/png": "[encoded data removed]",
      "text/plain": [
       "<Figure size 1000x500 with 1 Axes>"
      ]
     },
     "metadata": {},
     "output_type": "display_data"
    },
    {
     "name": "stdout",
     "output_type": "stream",
     "text": [
      "least float =  2.220446049250313e-16\n",
      "Количтсево слагаемых, которых хватит для подсчета экспоненты с наперед заданной точность: eps =  1e-13 N =  5\n"
     ]
    }
   ],
   "source": [
    "\n",
    "eps0=np.finfo(np.double).eps\n",
    "\n",
    "x = 1\n",
    "rx = round(x)\n",
    "standard = np.exp(x)\n",
    "theoretical_relative_error = (np.abs(x)/2+1)*np.finfo(float).eps\n",
    "theoretical_absolute_error = theoretical_relative_error * standard\n",
    "Ns = np.arange(15 + 10*np.abs(rx))\n",
    "\n",
    "# some error\n",
    "summ_pogreshnost=Ns*(Ns+3)*x*eps0/2\n",
    "\n",
    "# sum error for experement\n",
    "evaluation_absolute_error = mf.exp_evaluation(x, N = Ns[-1])\n",
    "\n",
    "\n",
    "#ploting\n",
    "fig, ax1 = plt.subplots(1,1,figsize=(10,5))\n",
    "#ax2 = plt.twinx(ax1)\n",
    "\n",
    "ax1.set_xlabel(\"Количество слагаемых\")\n",
    "ax1.set_ylabel(\"Absolute error\")\n",
    "\n",
    "line, = ax1.semilogy(Ns, Ns*0+theoretical_absolute_error, '-r')\n",
    "line.set_label(\"Теоретическая абсолютная погрешность\")\n",
    "\n",
    "line, = ax1.semilogy(Ns,  evaluation_absolute_error + summ_pogreshnost, '--')\n",
    "line.set_label(\"Оценка хвоста ряда + погрешность суммирования\")\n",
    "plt.legend()\n",
    "plt.show()\n",
    "\n",
    "# find count of N for current error\n",
    "current_eps=1e-13\n",
    "print(\"least float = \", eps0)\n",
    "print('Количтсево слагаемых, которых хватит для подсчета экспоненты с наперед заданной точность: eps = ', current_eps, 'N = ' ,mf.how_n_to_complete_exp(current_eps,0.01))\n"
   ]
  },
  {
   "cell_type": "markdown",
   "metadata": {},
   "source": [
    "## 4.\n",
    "\n",
    "Выше уже получили оценку остатка ряда:\n",
    "\n",
    "$\\bigg|\\sum^{+\\infty}_{n=N}\\dfrac{x^n}{n!}\\bigg|\\leq \\dfrac{|x|^N}{N!}\\sum^{+\\infty}_{n=0}\\dfrac{|x^n|}{N^n} = \\dfrac{|x|^{N+1}}{N!(N-|x|)} $\n",
    "\n",
    "Оценим погрешность от суммирования и возведения в степень при вычислении ряда: $$\\sum^N_{n=1} \\dfrac{x^n}{n!}$$\n",
    "\n",
    "Погрешность от возведения в степень и сложения: \n",
    "$$ \\sum^N_{n=1} n\\cdot  \\delta x = \\dfrac{N(N+1) \\delta x}{2}$$\n",
    "\n",
    "Также прибавим погрешность от деления на $n!$: $N \\delta x$\n",
    "\n",
    "Тогда получим полную погрешность:\n",
    "\n",
    "$$\\Delta e^{x} = \\dfrac{N(N+3)\\cdot x \\cdot \\delta x }{2} + \\dfrac{|x|^{N+1}}{N!(N-|x|)}$$\n",
    "\n",
    "Чтобы найти оптимальное количество слагаемы, нужно найти минимум этой функции: $\\dfrac{\\partial \\Delta e^{x}}{\\partial N} = 0$ и получить N. \n",
    "Или перебрать все N и найти про которых обе дроби будут примерно одинаковыми.\n"
   ]
  },
  {
   "cell_type": "code",
   "execution_count": 50,
   "metadata": {},
   "outputs": [
    {
     "ename": "AttributeError",
     "evalue": "module 'my_funcs' has no attribute 'find_N'",
     "output_type": "error",
     "traceback": [
      "\u001b[1;31m---------------------------------------------------------------------------\u001b[0m",
      "\u001b[1;31mAttributeError\u001b[0m                            Traceback (most recent call last)",
      "Cell \u001b[1;32mIn[50], line 5\u001b[0m\n\u001b[0;32m      3\u001b[0m N \u001b[38;5;241m=\u001b[39m np\u001b[38;5;241m.\u001b[39mzeros(\u001b[38;5;28mlen\u001b[39m(x))\n\u001b[0;32m      4\u001b[0m \u001b[38;5;28;01mfor\u001b[39;00m i \u001b[38;5;129;01min\u001b[39;00m \u001b[38;5;28mrange\u001b[39m(\u001b[38;5;241m0\u001b[39m, \u001b[38;5;28mlen\u001b[39m(x)):\n\u001b[1;32m----> 5\u001b[0m     N[i] \u001b[38;5;241m=\u001b[39m \u001b[43mmf\u001b[49m\u001b[38;5;241;43m.\u001b[39;49m\u001b[43mfind_N\u001b[49m(x[i], max_N)\n\u001b[0;32m      8\u001b[0m \u001b[38;5;28mprint\u001b[39m(\u001b[38;5;124m\"\u001b[39m\u001b[38;5;124mЗначение N при котором разница между погрешностью суммирования и остатка минимальна N = \u001b[39m\u001b[38;5;124m\"\u001b[39m, mf\u001b[38;5;241m.\u001b[39mfind_N(x[\u001b[38;5;241m1\u001b[39m], max_N))\n\u001b[0;32m     10\u001b[0m plt\u001b[38;5;241m.\u001b[39mplot(x, N,\u001b[38;5;124m\"\u001b[39m\u001b[38;5;124m.k\u001b[39m\u001b[38;5;124m\"\u001b[39m)\n",
      "\u001b[1;31mAttributeError\u001b[0m: module 'my_funcs' has no attribute 'find_N'"
     ]
    }
   ],
   "source": [
    "x = np.linspace(-10, 10, 1000)\n",
    "max_N = 100\n",
    "N = np.zeros(len(x))\n",
    "for i in range(0, len(x)):\n",
    "    N[i] = mf.find_N(x[i], max_N)\n",
    "\n",
    "\n",
    "print(\"Значение N при котором разница между погрешностью суммирования и остатка минимальна N = \", mf.find_N(x[1], max_N))\n",
    "\n",
    "plt.plot(x, N,\".k\")\n",
    "plt.xlabel(\"Значения x\")\n",
    "plt.ylabel(\"Значение N при котором разница между погрешностью суммирования и остатка минимальна\")\n",
    "plt.show() "
   ]
  },
  {
   "cell_type": "markdown",
   "metadata": {},
   "source": [
    "## 5.\n",
    "Аналитическая формула погрешности для схемы Горнера имеет вид $\\bigg(1+\\dfrac{x}{n}\\bigg)$ с единичной погрешностью $\\Delta x \\dfrac{3}{n}\\;\\;\\;\\;\\implies\\;\\;\\;\\;\\sum_{n=1}^{N}\\bigg[\\Delta x \\dfrac{3}{n} \\bigg]\\leq 3N \\Delta x$\n",
    "\n",
    "Но для обычного суммирования мы уже знаем формулу\n",
    "$$\\delta S_N = \\dfrac{N(N+3)\\cdot x \\cdot \\delta x }{2}$$"
   ]
  },
  {
   "cell_type": "markdown",
   "metadata": {},
   "source": [
    "## 6.\n",
    "Анализируя погрешности можем сделать вывод, что для оптимального суммирования можно взять алгорим Кэхэна"
   ]
  }
 ],
 "metadata": {
  "kernelspec": {
   "display_name": "Python 3",
   "language": "python",
   "name": "python3"
  },
  "language_info": {
   "codemirror_mode": {
    "name": "ipython",
    "version": 3
   },
   "file_extension": ".py",
   "mimetype": "text/x-python",
   "name": "python",
   "nbconvert_exporter": "python",
   "pygments_lexer": "ipython3",
   "version": "3.11.0"
  }
 },
 "nbformat": 4,
 "nbformat_minor": 2
}
