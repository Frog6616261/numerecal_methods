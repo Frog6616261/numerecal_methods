{
 "cells": [
  {
   "cell_type": "code",
   "execution_count": 1,
   "metadata": {},
   "outputs": [],
   "source": [
    "#import libraries for task\n",
    "import numpy as np\n",
    "import matplotlib.pyplot as plt\n",
    "\n",
    "import lab_funcs as lf\n",
    "import lab_funcs_disp as lfd\n",
    "import my_funcs as mf"
   ]
  },
  {
   "cell_type": "markdown",
   "metadata": {},
   "source": [
    "# Вычисление рядов\n",
    "\n",
    "## Khan-sum\n",
    "\n",
    "### Задания\n",
    "\n",
    "1. Объясните различие в погрешностях при различных порядках суммирования.\n",
    "3. Почему алгорит Кэхэна имеет значительно лучшую точность, чем последовательное суммирование?\n",
    "3. Получим ли мы те же значения погрешностей, если будем суммировать последовательность со слагаемыми разных знаков? Проверьте на следующей последовательности:\n",
    "$$x_k=\\sin k.$$\n",
    "4. Что произойдет с погрешностью, если элементы выборки с разными знаками упорядочить по возрастанию? По возрастанию абсолютной величины? Проверьте экспериментально.\n"
   ]
  },
  {
   "cell_type": "markdown",
   "metadata": {},
   "source": [
    "### Решение\n",
    "\n",
    "1. Если складывать суммы не учитывая порядок, то мы получим суммы где складываются большие числа с маленькими и погрешность увеличивается за счет отбрасывания нижних порядков.\n",
    "Если складывать поочередно, то погрешность при каждом суммирование будет меньше, т.к. мы будем складывать относительно равные числа (равного порядка) и погрешность не будет такой большой как в первом случае, т.к. нижние порядки учитваются.\n",
    "Продемострируем это на практике."
   ]
  },
  {
   "cell_type": "code",
   "execution_count": 2,
   "metadata": {},
   "outputs": [
    {
     "name": "stdout",
     "output_type": "stream",
     "text": [
      "Relative permut data error:  4.6550208134767723e-11\n",
      "Relative sort data error:  1.9908519277181958e-11\n"
     ]
    }
   ],
   "source": [
    "#generate data\n",
    "K = 7\n",
    "perm_data = lf.samples(K)\n",
    "sort_data = lf.sort_samples(K)\n",
    "sum_perm = lf.direct_sum(perm_data)\n",
    "sum_sort = lf.direct_sum(sort_data)\n",
    "cur_sum = lf.exact_sum(K)\n",
    "\n",
    "print(\"Relative permut data error: \", lf.relative_error(cur_sum, sum_perm))\n",
    "print(\"Relative sort data error: \", lf.relative_error(cur_sum, sum_sort))\n"
   ]
  },
  {
   "cell_type": "markdown",
   "metadata": {},
   "source": [
    "2. Алгоритм Кэхэна не отбрасывает остаток, он его сохраняет на каждом шаге суммирования. И результат следующего суммирования будет брать во внимание остаток от предыдущего суммирования и создавать остаток для нового суммирования.\n",
    "При суммирование по возрастанию мы уменьшили погрешность, но не учитывали остаток при суммировании.\n",
    "\n",
    "Получим сумму для алгоритма Кэхэна"
   ]
  },
  {
   "cell_type": "code",
   "execution_count": 3,
   "metadata": {},
   "outputs": [
    {
     "name": "stdout",
     "output_type": "stream",
     "text": [
      "Relative Kahan sum error:  0.0\n"
     ]
    }
   ],
   "source": [
    "kahan_sum = lf.Kahan_sum(perm_data)\n",
    "print(\"Relative Kahan sum error: \", lf.relative_error(cur_sum, kahan_sum))"
   ]
  },
  {
   "cell_type": "markdown",
   "metadata": {},
   "source": [
    "3. При суммирование знакочередующегося ряда мы получаем погрешность близкую к машинной. Для алгоритма Кэхэна ничего принципиально не изменится если будем суммировать слагаемые с разными знаками."
   ]
  },
  {
   "cell_type": "code",
   "execution_count": 8,
   "metadata": {},
   "outputs": [
    {
     "name": "stdout",
     "output_type": "stream",
     "text": [
      "Relative sum error to Kahan permut sin data:  9.54772862162757e-16\n"
     ]
    }
   ],
   "source": [
    "N = 1000\n",
    "correct_sin_sum = mf.get_correct_sin_sum(N)\n",
    "sin_perm_data = mf.get_sin_perm_samples(N)\n",
    "sum_sin_perm = mf.Kahan_sum(sin_perm_data)\n",
    "\n",
    "print(\"Relative sum error to Kahan permut sin data: \", lf.relative_error(correct_sin_sum, sum_sin_perm))"
   ]
  },
  {
   "cell_type": "markdown",
   "metadata": {},
   "source": [
    "4. Если упорядочивать элементы выборки, то относительная погрешность будет уменьшатся. Лучшим вариантом упорядочивания является $\\rightarrow$ упорядочивание не по абсолютной величине."
   ]
  },
  {
   "cell_type": "code",
   "execution_count": 10,
   "metadata": {},
   "outputs": [
    {
     "name": "stdout",
     "output_type": "stream",
     "text": [
      "Relative sum error to Kahan permut sin data:  9.54772862162757e-16\n",
      "Relative sum error to Kahan sort sin data:  4.0918836949832464e-16\n",
      "Relative sum error to Kahan abs sort sin data:  5.455844926644328e-16\n"
     ]
    }
   ],
   "source": [
    "\n",
    "correct_sin_sum = mf.get_correct_sin_sum(N)\n",
    "sin_sort_data = mf.get_sin_sort_samples(N)\n",
    "sin_abs_sort_data = mf.get_sin_abs_sort_samples(N)\n",
    "\n",
    "sum_sin_sort = mf.Kahan_sum(sin_sort_data)\n",
    "sum_abs_sin_sort = mf.Kahan_sum(sin_abs_sort_data)\n",
    "\n",
    "print(\"Relative sum error to Kahan permut sin data: \",\n",
    "       lf.relative_error(correct_sin_sum, sum_sin_perm))\n",
    "print(\"Relative sum error to Kahan sort sin data: \",\n",
    "       lf.relative_error(correct_sin_sum, sum_sin_sort))\n",
    "print(\"Relative sum error to Kahan abs sort sin data: \",\n",
    "       lf.relative_error(correct_sin_sum, sum_abs_sin_sort))"
   ]
  },
  {
   "cell_type": "markdown",
   "metadata": {},
   "source": [
    "## Вычисление дисперсии\n",
    "\n",
    "### Задания\n",
    "1. Обьясните, почему формулы оценки дисперсии имеют разные погрешности, хотя чтобы их применить, нужно выполнить одни и те же действия, но в разном порядке? Оцените погрешности обоих формул.\n",
    "2. Предложите однопроходную формулу для оценки мат. ожидания и дисперсии, основанную на первой формуле для дисперсии. Воспользуйтесь компенсационным суммированием, чтобы увеличить точность. Попробуйте увеличить точность вычисления по сравнению со второй формулой хотя бы на два порядка."
   ]
  },
  {
   "cell_type": "markdown",
   "metadata": {},
   "source": [
    "### Решение\n",
    "## 1. \n",
    "Для объяснения сначала оценим погрешности, после промоделируем это на примере. Из этого сложиться объяснение."
   ]
  },
  {
   "cell_type": "markdown",
   "metadata": {},
   "source": [
    "\n",
    "\n",
    "1) $$D[X]\\approx\\frac1N\\sum_{n=1}^N\\left(x_n-\\frac1N\\sum_{n=1}^Nx_n\\right)^2.$$\n",
    "\n",
    "| $f$ | $\\delta x$ | $\\Delta x$ |\n",
    "|:-:|:-:|:-:|\n",
    "| $x_n$ | $\\epsilon$ | $\\epsilon \\cdot x$ |\n",
    "| $\\dfrac{\\sum^{N}_{n} x_n}{N}$ | $\\dfrac{N}{N} \\cdot \\epsilon = \\epsilon$| $E(x)\\cdot \\epsilon$|\n",
    "|$\\bigg(x_n - \\dfrac{1}{N}\\sum_{n=1}^{N}x_n\\bigg)^2$|$2\\dfrac{2 \\cdot E(x)}{D(x)^{0.5} / 2 } \\cdot \\epsilon$|$8 \\epsilon \\cdot E(x)\\cdot D(x)^{0.5}$|\n",
    "|$\\dfrac{1}{N}\\sum_{n=1}^{N}\\bigg(x_n - \\dfrac{1}{N}\\sum_{n=1}^{N}x_n\\bigg)^2$|$8\\epsilon \\dfrac{E(x)}{D(x)^{0.5}}$|$8 \\epsilon \\cdot E(x)\\cdot D(x)^{0.5}$ |\n",
    "\n",
    "\n",
    "\n",
    "2) $$D[X]\\approx \\frac1N\\sum_{n=1}^N x_n^2-\\left(\\frac1N\\sum_{n=1}^Nx_n\\right)^2.$$\n",
    "| $f$ |$\\delta x$ | $\\Delta x$ |\n",
    "|:-:|:-:|:-:|\n",
    "|$x_n$|$\\epsilon$|$E(x)\\cdot \\epsilon$|\n",
    "|$\\bigg(\\dfrac{1}{N}\\sum_{n=1}^{N}x_n\\bigg)^2$ |$2 \\epsilon$ | $2 \\epsilon \\cdot E(x)^2$ |\n",
    "|$\\dfrac{1}{N}\\sum_{n=1}^{N}x_n^2$ |$\\dfrac{N}{N}\\cdot 2\\epsilon$ | $2\\epsilon\\cdot E(x)^2$ |\n",
    "|$\\dfrac{1}{N}\\sum_{n=1}^{N}x_n^2 - \\bigg(\\dfrac{1}{N}\\sum_{n=1}^{N}x_n\\bigg)^2$| $2\\epsilon + 2\\epsilon$|$4 \\epsilon \\cdot E(x)^2$| "
   ]
  },
  {
   "cell_type": "markdown",
   "metadata": {},
   "source": [
    "Как мы видим, погрешность не зависит от N, покажем это на примере. Построим график значения дисперсии от кол-ва элементов $\\rightarrow$ N"
   ]
  },
  {
   "cell_type": "code",
   "execution_count": null,
   "metadata": {},
   "outputs": [],
   "source": [
    "N_max = 1000\n",
    "N_array = mf.get_N_array(N_max)\n",
    "\n",
    "x_arrayes = lfd.array_samples(N_max)\n",
    "cur_disp = lfd.exact_variance()\n",
    "\n",
    "disp_one_sqrt_f = np.full(N_max, -1.0)\n",
    "disp_one_sqrt_s = np.full(N_max, -1.0)\n",
    "\n",
    "for num_of_array in range(0, N_max):\n",
    "    disp_one_sqrt_f[num_of_array] = lfd.direct_first_var(x_arrayes[num_of_array])\n",
    "    disp_one_sqrt_s[num_of_array] = lfd.direct_second_var(x_arrayes[num_of_array])\n",
    "\n",
    "plt.plot(N_array, disp_one_sqrt_f,\".k\")\n",
    "plt.plot(N_array, disp_one_sqrt_f, \".b\")\n",
    "plt.plot(N_array, [cur_disp]*len(N_array),\"--r\") \n",
    "plt.xlabel(\"$Количество\\; элементов\\; в\\; выборке\\; N$\")\n",
    "plt.ylabel(\"$Значение\\; дисперсии$\")\n",
    "plt.legend([\"Первая формула\", \"Вторая формула\", \"Текущее значение дисперсии\"])\n",
    "plt.show() "
   ]
  },
  {
   "cell_type": "markdown",
   "metadata": {},
   "source": [
    "## 2. \n",
    "Получим однопроходную формулу:\n",
    "\n",
    "$$N\\cdot D_N - (N-1)\\cdot D_{N-1} = \\sum^N_k(x_k-\\frac{1}{N} \\sum^N_n x_n)^2 - \\sum^{N-1}_k (x_k - \\frac{1}{N-1} \\sum^{N-1}_n x_n)^2 =$$\n",
    "$$= (x_N-E_N)^2 + \\sum^{N-1}_n ((x_n-E_N)^2 - (x_n-E_{N-1})^2) = (x_N-E_N)^2 + \\sum^{N-1}_n (2x_n - E_N - E_{N-1})(E_{N-1} - E_N) $$\n",
    "\n",
    "Тогда получим:\n",
    "\n",
    "$$ D_N = \\bigg( 1- \\frac{1}{N} \\bigg) D_{N-1} + \\frac{1}{N} (x_N-E_N) (x_N-E_{N-1}) $$\n",
    "\n",
    "Посчитаем и сравним для каждой формулы по дисперсии"
   ]
  },
  {
   "cell_type": "code",
   "execution_count": 1,
   "metadata": {},
   "outputs": [
    {
     "ename": "NameError",
     "evalue": "name 'lfd' is not defined",
     "output_type": "error",
     "traceback": [
      "\u001b[1;31m---------------------------------------------------------------------------\u001b[0m",
      "\u001b[1;31mNameError\u001b[0m                                 Traceback (most recent call last)",
      "Cell \u001b[1;32mIn[1], line 1\u001b[0m\n\u001b[1;32m----> 1\u001b[0m x \u001b[38;5;241m=\u001b[39m \u001b[43mlfd\u001b[49m\u001b[38;5;241m.\u001b[39msamples(\u001b[38;5;241m100000\u001b[39m)\n\u001b[0;32m      2\u001b[0m eps0 \u001b[38;5;241m=\u001b[39m np\u001b[38;5;241m.\u001b[39mfinfo(np\u001b[38;5;241m.\u001b[39mdouble)\u001b[38;5;241m.\u001b[39meps\n\u001b[0;32m      3\u001b[0m n \u001b[38;5;241m=\u001b[39m \u001b[38;5;28mfloat\u001b[39m(\u001b[38;5;28mlen\u001b[39m(x))\n",
      "\u001b[1;31mNameError\u001b[0m: name 'lfd' is not defined"
     ]
    }
   ],
   "source": [
    "\n",
    "x = lfd.samples(100000)\n",
    "eps0 = np.finfo(np.double).eps\n",
    "n = float(len(x))\n",
    "mean = lfd.get_mean()\n",
    "delta = lfd.get_delta()\n",
    "variance = lfd.exact_variance()\n",
    "\n",
    "theor_1 = 8*eps0*mean*delta**(0.5)\n",
    "theor_2 = 4*eps0*mean**2\n",
    "\n",
    "x_oneline_test=[1/2,4/7,3/5,11/19,5/19]\n",
    "d1=lfd.oneline_first_var(x_oneline_test)\n",
    "d2=lfd.online_second_var(x_oneline_test)\n",
    "print('Сравнение однопроходных формул для первой и второй оценки дисперсии: разность получаемых значений',np.abs(d1-d2))\n",
    "\n",
    "print(\"Размер выборки:\", len(x))\n",
    "print(\"Среднее значение:\", lfd.exact_mean())\n",
    "print(\"Оценка дисперсии:\", lfd.exact_variance())\n",
    "print(\"Ошибка среднего для встроенной функции:\", lfd.relative_error(mean,np.mean(x)))\n",
    "print(\"Ошибка дисперсии для встроенной функции:\", lfd.relative_error(variance,np.var(x)))\n",
    "\n",
    "\n",
    "print(\"Ошибка среднего для последовательного суммирования:\", lfd.relative_error(mean,lfd.direct_mean(x)))\n",
    "\n",
    "print(\"Ошибка второй оценки дисперсии для последовательного суммирования:\",lfd.relative_error(variance,lfd.direct_second_var(x)))\n",
    "print(\"Ошибка второй оценки дисперсии для однопроходного суммирования:\",lfd.relative_error(variance,lfd.online_second_var(x)))\n",
    "\n",
    "\n",
    "print(\"Ошибка первой оценки дисперсии для последовательного суммирования:\",lfd.relative_error(variance,lfd.direct_first_var(x)))\n",
    "print(\"Ошибка первой оценки дисперсии для однопроходного суммирования:\",lfd.relative_error(variance,lfd.oneline_first_var(x)))\n",
    "\n",
    "\n",
    "print(\"Теоретическая оценка ошибки дисперсии (по первой формуле):\",theor_1)\n",
    "print(\"Теоретическая оценка ошибки дисперсии (по второй формуле):\",theor_2)"
   ]
  },
  {
   "cell_type": "markdown",
   "metadata": {},
   "source": [
    "## Вычисление экспоненты\n",
    "\n",
    "### Задания\n",
    "\n",
    "1. Относительная ошибка приближения частичной суммой ряда Тейлора показательной функцией много больше для отрицательных аргументов. Объясните причину этого. Воспользуйтесь свойствами показательной функции, чтобы выравнить точность вычислений при положительных и отрицательных аргументах.\n",
    "2. Почему абсолютная погрешность мала при аргументах близких к нулю? Как именно погрешность зависит от аргумента?\n",
    "3. Абсолютная погрешность приближения функции частичной суммой ряда равна остатку этого ряда. Оцените остаток ряда Тейлора для экспоненты и найдите число слагаемых, необходимое для вычисления экспоненты с наперед заданной точностью. Проведите эксперимент и убедитесь, что предсказанная вами точность отличается от фактической не более чем на порядок.\n",
    "4. Ошибка вычисления через частичную сумму складывается из ошибки отбрасывание остатка ряда и ошибки вычисления умножений и сложений. При увеличинии числа слагаемых первая ошибка уменьшается, но вторая растет. Для произвольного x оцените число слагаемых, при которых точность вычисления показательной функции максимальна.\n",
    "5. Схема Горнера дает несколько меньшую погрешность, чем суммирование одночленов. Почему?\n",
    "6. Можете предложить лучший способ вычисления показательной функции?"
   ]
  },
  {
   "cell_type": "markdown",
   "metadata": {},
   "source": [
    "## Решение\n",
    "## 1.\n"
   ]
  },
  {
   "cell_type": "markdown",
   "metadata": {},
   "source": [
    "Ошибку можно объяснить, рассмотрев погрешность для рассматриваемого ряда:\n",
    "\n",
    "$\\bigg|\\Delta\\dfrac{x_n}{n!}\\bigg| = \\Delta\\dfrac{|x^n|}{n!} = n\\cdot\\dfrac{|x^n|}{n!}\\cdot |\\delta x| = |\\delta x|\\dfrac{|x^n|}{(n-1)!}$\n",
    "\n",
    "\n",
    "$\\Delta S_N \\leq \\sum_{n=0}^N |\\delta x|\\dfrac{|x^n|}{(n-1)!} \\leq |\\delta x\\cdot x| \\sum_{n=0}^{N-1} \\dfrac{|x^n|}{n!}\\leq e^{|x|}\\cdot |\\Delta x|$\n",
    "\n",
    "\n",
    "$|\\delta S_N| = \\dfrac{|\\Delta x|e^{|x|}}{e^x} = |\\Delta x| \\cdot \\exp[|x|-x]$\n",
    "\n",
    "\n",
    "Из оценки погрешности видно, что при положительных значениях аргумента - экспонента не вносит вклад в погрешность (т.к. ее агрумент равен нулю), а при отрицательных значениях агрумент экспоненты равен $-2x$, что вносит сильный вклад в эволюцию ошибки - экспоненциально растущая ошибка при больишх значениях аргумента."
   ]
  }
 ],
 "metadata": {
  "kernelspec": {
   "display_name": "Python 3",
   "language": "python",
   "name": "python3"
  },
  "language_info": {
   "codemirror_mode": {
    "name": "ipython",
    "version": 3
   },
   "file_extension": ".py",
   "mimetype": "text/x-python",
   "name": "python",
   "nbconvert_exporter": "python",
   "pygments_lexer": "ipython3",
   "version": "3.11.0"
  }
 },
 "nbformat": 4,
 "nbformat_minor": 2
}
